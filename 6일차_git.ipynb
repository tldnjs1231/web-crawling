{
 "cells": [
  {
   "cell_type": "markdown",
   "id": "ae5f6956",
   "metadata": {},
   "source": [
    "## Selenium\n",
    "- 브라우저 조작을 자동화 할 수 있는 도구(마우스 클릭, 키보드 입력이 대표적)\n",
    "- 원래는 웹에서 프로그램을 테스트할 때 반복적인 작업을 자동으로 수행하기 위한 목적으로 만들어진 도구\n",
    "- 공식문서: https://www.selenium.dev/documentation/\n",
    "- requests는 정적인 문서를 가져올 때 사용했다면 selenium은 동적 크롤링 가능"
   ]
  },
  {
   "cell_type": "markdown",
   "id": "f1bb1c42",
   "metadata": {},
   "source": [
    "#### 장점\n",
    "- selenium은 브라우저를 직접 제어하는 자동화 도구이므로 자바 스크립트 및 모든 동적 활동에 대응 가능\n",
    "- requests는 자바 스크립트 실행이 어려워 동적인 로딩 페이지에서 제대로 된 정보를 얻는 것이 불가능\n",
    "- 스크롤을 내리면 처음 보이는 페이지의 콘텐츠 외에도 다양한 콘텐츠가 등장\n",
    " - requests는 첫 화면의 콘텐츠만 크롤링 가능, selenium은 스크롤을 내리면서 페이지 내 모든 콘텐츠 크롤링 가능"
   ]
  },
  {
   "cell_type": "markdown",
   "id": "3177929a",
   "metadata": {},
   "source": [
    "#### 단점\n",
    "- 브라우저를 조작/제어하는 작업이기 때문에 request 등 기존 작업에 비해 실행 속도가 느림"
   ]
  },
  {
   "cell_type": "code",
   "execution_count": 1,
   "id": "a1490800",
   "metadata": {},
   "outputs": [],
   "source": [
    "# !pip install selenium"
   ]
  },
  {
   "cell_type": "code",
   "execution_count": 2,
   "id": "ee2656f0",
   "metadata": {},
   "outputs": [],
   "source": [
    "from selenium.webdriver import Chrome"
   ]
  },
  {
   "cell_type": "markdown",
   "id": "5f1c92d7",
   "metadata": {},
   "source": [
    "## Driver\n",
    "- 브라우저에 접근/제어할 수 있는 도구(selenium으로 브라우저를 제어하기 위해서 필요한 도구)\n",
    "- ChromeDriver 설치: https://chromedriver.chromium.org/downloads\n",
    "- 크롬 버전 확인(크롬 브라우저 -> 도움말 -> Chrome 정보) 후 알맞은 버전의 크롬 드라이버 설치(102/103/104)\n",
    "- 압축 해제 후 응용 프로그램(chromedriver.exe)을 ipynb 파일과 같은 위치로 이동\n",
    "- 웹 드라이버 파일 경로 주의"
   ]
  },
  {
   "cell_type": "code",
   "execution_count": 3,
   "id": "b3362fae",
   "metadata": {},
   "outputs": [
    {
     "name": "stderr",
     "output_type": "stream",
     "text": [
      "C:\\Users\\Public\\Documents\\ESTsoft\\CreatorTemp\\ipykernel_5280\\684732678.py:2: DeprecationWarning: executable_path has been deprecated, please pass in a Service object\n",
      "  driver = Chrome('chromedriver.exe')\n"
     ]
    }
   ],
   "source": [
    "# 빈 크롬 창 실행 및 변수에 지정(엣지, 파이어폭스 등 다른 브라우저도 가능)\n",
    "driver = Chrome('chromedriver.exe')"
   ]
  },
  {
   "cell_type": "code",
   "execution_count": 4,
   "id": "298f2b80",
   "metadata": {},
   "outputs": [],
   "source": [
    "# 테스트 브라우저 종료\n",
    "driver.close()"
   ]
  },
  {
   "cell_type": "code",
   "execution_count": 5,
   "id": "a107ef9c",
   "metadata": {},
   "outputs": [
    {
     "name": "stderr",
     "output_type": "stream",
     "text": [
      "C:\\Users\\Public\\Documents\\ESTsoft\\CreatorTemp\\ipykernel_5280\\3751540684.py:8: DeprecationWarning: executable_path has been deprecated, please pass in a Service object\n",
      "  driver = Chrome('chromedriver.exe') # 빈 크롬 창 열기\n"
     ]
    }
   ],
   "source": [
    "import time\n",
    "\n",
    "# time 모듈은 동적 크롤링에서 매우 중요!\n",
    "# A, B 작업을 순서대로 실행하고자 하는 경우,\n",
    "# A 작업을 마치기 전에 B 작업을 시작하여 A가 정상 진행되지 않는 것을 방지하기 위해 사용\n",
    "# 동적 크롤링 시 원하는 정보가 수집되지 않는 대부분의 문제는 time(시간 지연)으로 해결 가능\n",
    "\n",
    "driver = Chrome('chromedriver.exe') # 빈 크롬 창 열기\n",
    "\n",
    "time.sleep(3) # 시간 지연 3초\n",
    "url = 'https://www.naver.com/'\n",
    "driver.get(url) # get: 해당 URL로 이동\n",
    "\n",
    "time.sleep(3)\n",
    "driver.back() # 뒤로 가기\n",
    "\n",
    "time.sleep(3)\n",
    "driver.close() # 크롬 창 닫기"
   ]
  },
  {
   "cell_type": "markdown",
   "id": "8701d704",
   "metadata": {},
   "source": [
    "### 실시간 이슈 키워드 수집: requests to selenium"
   ]
  },
  {
   "cell_type": "code",
   "execution_count": 8,
   "id": "05ce6637",
   "metadata": {},
   "outputs": [
    {
     "data": {
      "text/plain": [
       "'이상한 변호사 우영우'"
      ]
     },
     "execution_count": 8,
     "metadata": {},
     "output_type": "execute_result"
    }
   ],
   "source": [
    "# requests 활용\n",
    "\n",
    "import requests\n",
    "from bs4 import BeautifulSoup\n",
    "\n",
    "# request\n",
    "url = 'https://news.nate.com/search?q=abcd'\n",
    "response = requests.get(url).text\n",
    "\n",
    "# parse\n",
    "news_page = BeautifulSoup(response)\n",
    "\n",
    "# 데이터 접근\n",
    "kwd_area = news_page.find('span', {'class':'kwd-list'})\n",
    "kwd_area.find_all('a')[1].text"
   ]
  },
  {
   "cell_type": "code",
   "execution_count": 12,
   "id": "aeedbe42",
   "metadata": {},
   "outputs": [
    {
     "name": "stderr",
     "output_type": "stream",
     "text": [
      "C:\\Users\\Public\\Documents\\ESTsoft\\CreatorTemp\\ipykernel_5280\\2181961661.py:7: DeprecationWarning: executable_path has been deprecated, please pass in a Service object\n",
      "  driver = Chrome('chromedriver.exe') # 크롬 드라이버 생성\n"
     ]
    },
    {
     "data": {
      "text/plain": [
       "'이상한 변호사 우영우'"
      ]
     },
     "execution_count": 12,
     "metadata": {},
     "output_type": "execute_result"
    }
   ],
   "source": [
    "# selenium 자동화 도구 활용\n",
    "\n",
    "from selenium.webdriver import Chrome # 모듈 변경: requests -> selenium\n",
    "from bs4 import BeautifulSoup\n",
    "import time # 자동화 도구: time 모듈 반드시 import\n",
    "\n",
    "driver = Chrome('chromedriver.exe') # 크롬 드라이버 생성\n",
    "\n",
    "# request -> get 방식 변경\n",
    "# response = requests.get(url).text: 요청, 응답 get, 응답 저장(변수)까지 한 문장으로 수행\n",
    "# driver.get(): 단순 요청 작업 -> 크롬 브라우저 URL 이동만 진행\n",
    "# 요청문에 대한 응답(페이지 HTML 소스)를 변수에 저장하는 작업은 따로 수행\n",
    "time.sleep(3)\n",
    "url = 'https://news.nate.com/search?q=abcd'\n",
    "driver.get(url)\n",
    "response = driver.page_source\n",
    "\n",
    "# 크롬 브라우저 종료 -> 소스 코드를 가져왔으므로 띄워놓을 필요 x\n",
    "time.sleep(5)\n",
    "driver.close()\n",
    "\n",
    "# parse -> 방식 동일\n",
    "news_page = BeautifulSoup(response)\n",
    "\n",
    "# 데이터 접근 -> 방식 동일\n",
    "kwd_area = news_page.find('span', {'class':'kwd-list'})\n",
    "kwd_area.find_all('a')[1].text"
   ]
  },
  {
   "cell_type": "markdown",
   "id": "7ef0dfbb",
   "metadata": {},
   "source": [
    "### 동적 페이지 크롤링\n",
    "- 웹 브라우저 자체를 실행하는 selenium은 페이지의 소스만 가져오는 requests에 비해 속도가 느리다는 단점 존재\n",
    "- but, 브라우저의 조작(타이핑, 클릭 등)을 자동화하여 동적 웹 문서에 대한 크롤링 가능\n",
    "- 동적 크롤링: 사용자의 입력에 따라서 동적으로 움직이는 페이지를 크롤링\n",
    " - ex) 특정 키워드를 검색한 후 그에 대한 결과를 얻고자 하는 경우\n",
    " - requests 모듈은 정적 웹 문서에 대한 크롤링만 가능"
   ]
  },
  {
   "cell_type": "markdown",
   "id": "47fddec5",
   "metadata": {},
   "source": [
    "#### 일반화된 브라우저 조작/제어 과정\n",
    "1. 화면 구성요소(A) 탐색 및 객체 생성\n",
    " - x = A: 구성요소를 변수에 할당\n",
    "2. 구성요소(A)에 대하여 타이핑, 클릭 등의 행위(B) 수행\n",
    " - x.B(): 구성요소를 할당한 대상 x에 특정 행위/메소드 적용"
   ]
  },
  {
   "cell_type": "markdown",
   "id": "b9b48b3e",
   "metadata": {},
   "source": [
    "### 알라딘 온라인 중고샵 검색 실습\n",
    "- 알라딘 온라인 중고샵: https://www.aladin.co.kr/home/wusedshopmain.aspx?start=main\n",
    "- 책 제목 검색, 검색 결과 페이지로 이동, 이동한 페이지의 소스에 접근(검색어 타이핑 및 검색 버튼 클릭)"
   ]
  },
  {
   "cell_type": "code",
   "execution_count": 14,
   "id": "23459b04",
   "metadata": {},
   "outputs": [
    {
     "name": "stderr",
     "output_type": "stream",
     "text": [
      "C:\\Users\\Public\\Documents\\ESTsoft\\CreatorTemp\\ipykernel_5280\\145086708.py:5: DeprecationWarning: executable_path has been deprecated, please pass in a Service object\n",
      "  driver = Chrome('chromedriver.exe')\n"
     ]
    }
   ],
   "source": [
    "from selenium.webdriver import Chrome\n",
    "from selenium.webdriver.common.by import By # find_element() 태그 추출 방식 지정에 사용\n",
    "import time\n",
    "\n",
    "driver = Chrome('chromedriver.exe')\n",
    "\n",
    "time.sleep(3)\n",
    "url = 'https://www.aladin.co.kr/home/wusedshopmain.aspx?start=main'\n",
    "driver.get(url)\n",
    "\n",
    "\n",
    "# 화면 구성요소 객체 생성 및 작업 수행\n",
    "\n",
    "# 검색어를 입력할 위치 파악(개발자 도구): 태그의 id와 xpath를 파악하는 것이 일반적\n",
    "# find_element_by_id(), find_element_by_xpath() -> 현재는 지원하지 않는 기능\n",
    "\n",
    "# 현재 사용되는 방식: find_element(By.ID), find_element(By.XPATH)\n",
    "# By.ID(id), NAME(name), XPATH(xpath), CLASS_NAME(class), TAG_NAME(tag name)\n",
    "\n",
    "# xpath: XML, HTML에서 특정 노드를 찾기 위해 사용하는 method\n",
    "# 요소별로 고유한 path이므로 태그명처럼 중복되는 경우를 처리할 필요 x\n",
    "# 개발자 도구 소스 코드 -> 오른쪽 클릭 copy -> copy xpath\n",
    "\n",
    "time.sleep(3)\n",
    "box_path = '//*[@id=\"SearchWord\"]' # copy xpath\n",
    "box = driver.find_element(By.XPATH, value=box_path) # 구성요소 A 생성(검색 창)\n",
    "box.send_keys('해리포터') # A에 대하여 B 행위 수행(검색 창에 검색어 입력)\n",
    "\n",
    "time.sleep(3)\n",
    "btn_path = '//*[@id=\"global_search\"]/input'\n",
    "btn = driver.find_element(By.XPATH, value=btn_path) # 검색 버튼 btn 생성\n",
    "btn.click() # 검색 버튼 클릭(검색 실행)\n",
    "\n",
    "\n",
    "# 검색 후 이동한 결과 페이지의 소스 저장\n",
    "response = driver.page_source\n",
    "\n",
    "time.sleep(5)\n",
    "driver.close()"
   ]
  },
  {
   "cell_type": "code",
   "execution_count": 15,
   "id": "b3896f9e",
   "metadata": {},
   "outputs": [
    {
     "name": "stderr",
     "output_type": "stream",
     "text": [
      "C:\\Users\\Public\\Documents\\ESTsoft\\CreatorTemp\\ipykernel_5280\\2275878444.py:7: DeprecationWarning: executable_path has been deprecated, please pass in a Service object\n",
      "  driver = Chrome('chromedriver.exe')\n"
     ]
    }
   ],
   "source": [
    "# id와 class명을 활용하여 검색 창/검색 버튼 추출\n",
    "\n",
    "from selenium.webdriver import Chrome\n",
    "from selenium.webdriver.common.by import By\n",
    "import time\n",
    "\n",
    "driver = Chrome('chromedriver.exe')\n",
    "\n",
    "time.sleep(3)\n",
    "url = 'https://www.aladin.co.kr/home/wusedshopmain.aspx?start=main'\n",
    "driver.get(url)\n",
    "\n",
    "time.sleep(3)\n",
    "box = driver.find_element(value='SearchWord') # default: id\n",
    "box.send_keys('해리포터')\n",
    "\n",
    "time.sleep(3)\n",
    "btn = driver.find_element(By.CLASS_NAME, value='searchBtn') # 검색 버튼의 class명으로 추출\n",
    "btn.click()\n",
    "\n",
    "response = driver.page_source\n",
    "\n",
    "time.sleep(5)\n",
    "driver.close()"
   ]
  },
  {
   "cell_type": "code",
   "execution_count": 16,
   "id": "2ead620d",
   "metadata": {},
   "outputs": [
    {
     "name": "stderr",
     "output_type": "stream",
     "text": [
      "C:\\Users\\Public\\Documents\\ESTsoft\\CreatorTemp\\ipykernel_5280\\4213392978.py:7: DeprecationWarning: executable_path has been deprecated, please pass in a Service object\n",
      "  driver = Chrome('chromedriver.exe')\n"
     ]
    }
   ],
   "source": [
    "# Keys 모듈 활용\n",
    "\n",
    "from selenium.webdriver import Chrome\n",
    "from selenium.webdriver.common.keys import Keys\n",
    "import time\n",
    "\n",
    "driver = Chrome('chromedriver.exe')\n",
    "\n",
    "time.sleep(3)\n",
    "url = 'https://www.aladin.co.kr/home/wusedshopmain.aspx?start=main'\n",
    "driver.get(url)\n",
    "\n",
    "time.sleep(3)\n",
    "box = driver.find_element(value='SearchWord') # 검색 창 생성\n",
    "box.send_keys('해리포터') # 검색어 입력\n",
    "box.send_keys(Keys.RETURN) # Keys.RETURN -> 키보드 enter 키 입력\n",
    "\n",
    "response = driver.page_source\n",
    "\n",
    "time.sleep(5)\n",
    "driver.close()"
   ]
  },
  {
   "cell_type": "markdown",
   "id": "0ce955ab",
   "metadata": {},
   "source": [
    "### 알라딘 베스트셀러 50권의 중고 서적을 검색하는 프로그램"
   ]
  },
  {
   "cell_type": "code",
   "execution_count": 17,
   "id": "e196c0a7",
   "metadata": {},
   "outputs": [],
   "source": [
    "# 중고샵에 책 제목을 검색했을 때 나오는 중고 서적의 목록을 출력하는 함수\n",
    "\n",
    "def search_page_all_books(response):\n",
    "    \n",
    "    search_page = BeautifulSoup(response)\n",
    "    \n",
    "    # 모든 책에 대하여 책 정보가 담긴 div(class='ss_book_box')를 추출\n",
    "    search_page_all_books = search_page.find_all('div', {'class':'ss_book_box'})\n",
    "    \n",
    "    book_list = []\n",
    "    \n",
    "    for book in search_page_all_books:\n",
    "        midpoint = book.find('div', {'class':'ss_book_list'})\n",
    "        title = midpoint.find('a', {'class':'bo3'}).find('b').text\n",
    "        book_list.append(title)\n",
    "    \n",
    "    return book_list"
   ]
  },
  {
   "cell_type": "code",
   "execution_count": 18,
   "id": "4d4343e9",
   "metadata": {},
   "outputs": [
    {
     "data": {
      "text/plain": [
       "['해리 포터와 마법사의 돌 (미나리마 에디션)',\n",
       " '해리 포터와 비밀의 방 (미나리마 에디션)',\n",
       " '해리 포터와 마법사의 돌 1 (무선)',\n",
       " '해리 포터와 마법사의 돌 2 (무선)',\n",
       " '해리 포터와 비밀의 방 1 (무선)',\n",
       " '해리 포터와 비밀의 방 2 (무선)',\n",
       " '해리 포터 시리즈 1~4편 박스 세트 - 전10권 (무선)',\n",
       " '해리 포터와 아즈카반의 죄수 1 (무선)',\n",
       " '해리 포터와 아즈카반의 죄수 2 (무선)',\n",
       " '해리 포터 시리즈 5~7편 박스 세트 - 전13권 (무선)',\n",
       " '해리 포터와 불의 잔 1 (무선)',\n",
       " '해리 포터와 불의 잔 2 (무선)',\n",
       " '해리 포터와 불의 잔 3 (무선)',\n",
       " '해리 포터와 불의 잔 4 (무선)',\n",
       " '[세트] 해리 포터와 마법사의 돌 + 해리 포터와 비밀의 방 (미나리마 에디션) - 전2권',\n",
       " '해리 포터 : 마법사의 돌 (양장)',\n",
       " '해리 포터와 불사조 기사단 1 (무선)',\n",
       " '해리 포터와 죽음의 성물 4 (무선)',\n",
       " '해리 포터와 저주받은 아이 1, 2부 (양장)',\n",
       " '해리 포터와 불사조 기사단 2 (무선)',\n",
       " '해리 포터와 죽음의 성물 1 (무선)',\n",
       " '해리 포터와 비밀의 방 (양장)',\n",
       " '해리 포터와 죽음의 성물 3 (무선)',\n",
       " '해리 포터와 불사조 기사단 5 (무선)',\n",
       " '해리 포터와 불사조 기사단 4 (무선)']"
      ]
     },
     "execution_count": 18,
     "metadata": {},
     "output_type": "execute_result"
    }
   ],
   "source": [
    "search_page_all_books(response) # response: '해리포터' 검색 결과 페이지의 소스"
   ]
  },
  {
   "cell_type": "code",
   "execution_count": 19,
   "id": "65c09fa9",
   "metadata": {},
   "outputs": [],
   "source": [
    "import requests"
   ]
  },
  {
   "cell_type": "code",
   "execution_count": 20,
   "id": "71907e73",
   "metadata": {},
   "outputs": [],
   "source": [
    "# 알라딘 베스트셀러 50권의 제목을 반환하는 함수\n",
    "\n",
    "def best_sellers():\n",
    "    \n",
    "    url = 'https://www.aladin.co.kr/shop/common/wbest.aspx?BranchType=1'\n",
    "\n",
    "    response = requests.get(url).text\n",
    "    aladin = BeautifulSoup(response)\n",
    "    \n",
    "    all_books = aladin.find_all('div', {'class':'ss_book_box'})\n",
    "\n",
    "    books = []\n",
    "\n",
    "    for book_area in all_books:\n",
    "        midpoint = book_area.find('div', {'class':'ss_book_list'})\n",
    "        title = midpoint.find('a', {'class':'bo3'}).find('b').text\n",
    "        books.append(title)\n",
    "\n",
    "    return books"
   ]
  },
  {
   "cell_type": "code",
   "execution_count": 21,
   "id": "ffd42bdc",
   "metadata": {},
   "outputs": [
    {
     "data": {
      "text/plain": [
       "['헤어질 결심 각본',\n",
       " '알싸한 기린의 세계',\n",
       " '믿음에 대하여',\n",
       " '파친코 1',\n",
       " '원펀맨 One Punch Man 25',\n",
       " '역행자',\n",
       " '유럽 도시 기행 2',\n",
       " '불편한 편의점 (40만부 기념 벚꽃 에디션)',\n",
       " '계속 가보겠습니다',\n",
       " '흔한남매 11',\n",
       " '작별인사',\n",
       " '마법천자문 53',\n",
       " '이상한 과자 가게 전천당 15',\n",
       " '다정한 것이 살아남는다',\n",
       " 'ETS 토익 정기시험 기출문제집 1000 Vol. 3 Reading (리딩)',\n",
       " '물고기는 존재하지 않는다',\n",
       " 'ETS 토익 정기시험 기출문제집 1000 Vol. 3 Listening (리스닝)',\n",
       " '세상의 마지막 기차역',\n",
       " '옆집 천사님 때문에 어느샌가 인간적으로 타락한 사연 5.5 (소책자 부속 특별판)',\n",
       " '사서함 110호의 우편물',\n",
       " '튜브',\n",
       " '기분을 관리하면 인생이 관리된다',\n",
       " '최재천의 공부',\n",
       " '아기곰의 재테크 불변의 법칙',\n",
       " '1차원이 되고 싶어 (0차원 에디션)',\n",
       " '2022 큰별쌤 최태성의 별★별한국사 한국사능력검정시험 심화(1, 2, 3급) 상',\n",
       " '해커스 토익 기출 보카 TOEIC VOCA 단어장',\n",
       " '2022 큰별쌤 최태성의 별★별한국사 한국사능력검정시험 심화(1, 2, 3급) 하',\n",
       " '지정학의 힘',\n",
       " '매일을 헤엄치는 법',\n",
       " '밥 프록터 부의 확신',\n",
       " '입지 센스',\n",
       " '명탐정 코난 : 경찰학교 편 - 하',\n",
       " '2022 큰별쌤 최태성의 별★별한국사 기출 500제 한국사능력검정시험 심화 (1.2.3급)',\n",
       " '명탐정 코난 : 경찰학교 편 - 상',\n",
       " '유럽 도시 기행 1',\n",
       " '다섯번째 산',\n",
       " '지구 끝의 온실 (여름 에디션)',\n",
       " '너무 잘하려고 애쓰지 마라',\n",
       " '친밀한 이방인',\n",
       " '눈물 한 방울',\n",
       " '감정 어휘',\n",
       " '넛지 : 파이널 에디션',\n",
       " '꽁꽁꽁 아이스크림',\n",
       " '원피스 102',\n",
       " '한 개의 기쁨이 천 개의 슬픔을 이긴다 : 삶과 태도에 관하여',\n",
       " '변화하는 세계 질서',\n",
       " '계속 가봅시다 남는 게 체력인데',\n",
       " '그릿 GRIT (100쇄 기념 리커버 에디션)',\n",
       " '방과 후 소년 하나코 군']"
      ]
     },
     "execution_count": 21,
     "metadata": {},
     "output_type": "execute_result"
    }
   ],
   "source": [
    "best_sellers()"
   ]
  },
  {
   "cell_type": "code",
   "execution_count": null,
   "id": "83e1fab6",
   "metadata": {},
   "outputs": [],
   "source": [
    "# 알라딘 베스트셀러 50권을 알라딘 중고샵에 검색하는 프로그램\n",
    "\n",
    "driver = Chrome('chromedriver.exe')\n",
    "\n",
    "time.sleep(3)\n",
    "url = 'https://www.aladin.co.kr/home/wusedshopmain.aspx?start=main'\n",
    "driver.get(url)\n",
    "\n",
    "time.sleep(3)\n",
    "\n",
    "# 베스트셀러 중고 서적 목록을 저장할 list\n",
    "used_best = []\n",
    "\n",
    "for book in best_sellers():\n",
    "    \n",
    "    box_path = '//*[@id=\"SearchWord\"]'\n",
    "    box = driver.find_element(By.XPATH, value=box_path)\n",
    "    \n",
    "    box.clear() # 검색 창 초기화: 50권의 책 제목이 이어서 입력되는 것을 방지\n",
    "    box.send_keys(book) # book 변수에 할당된 검색어 입력\n",
    "    time.sleep(1)\n",
    "\n",
    "    time.sleep(3)\n",
    "    btn_path = '//*[@id=\"global_search\"]/input'\n",
    "    btn = driver.find_element(By.XPATH, value=btn_path)\n",
    "    btn.click()\n",
    "\n",
    "    time.sleep(3)\n",
    "    response = driver.page_source\n",
    "    \n",
    "    time.sleep(3)\n",
    "    result = search_page_all_books(response)\n",
    "\n",
    "    used_best.append({'베스트셀러':book, '중고 책 목록':result})\n",
    "\n",
    "driver.close()\n",
    "\n",
    "# WebDriverException 에러: 로딩 시간이 오래 소요되어 발생\n",
    "# time.sleep 시간을 늘려주거나 재부팅하여 해결 가능"
   ]
  },
  {
   "cell_type": "code",
   "execution_count": 25,
   "id": "370af910",
   "metadata": {},
   "outputs": [
    {
     "data": {
      "text/plain": [
       "[{'베스트셀러': '헤어질 결심 각본', '중고 책 목록': []},\n",
       " {'베스트셀러': '알싸한 기린의 세계', '중고 책 목록': ['알싸한 기린의 세계']},\n",
       " {'베스트셀러': '믿음에 대하여',\n",
       "  '중고 책 목록': ['능력주의와 불평등',\n",
       "   '말씀, 그리고 사색과 결단 2',\n",
       "   '불교에 대해 꼭 알아야 할 100가지',\n",
       "   '하나님은 당신이 건강하기 원하십니다',\n",
       "   '데 레 코퀴나리아',\n",
       "   '사막의 우물(발견할 수 있다는 믿음에 대하여)',\n",
       "   '하나님이 주신 최고의 선물 믿음 - 많은 사람들이 궁금해 하는 믿음에 대하여 성경적으로 고찰한 책',\n",
       "   '하나님이 주신 최고의 선물 믿음 - 많은 사람들이 궁금해 하는 믿음에 대하여 성경적으로 고찰한 책이다',\n",
       "   '많은 사람들이 궁금해 하는 믿음에 대하여 성경적으로 고찰한 책',\n",
       "   '하나님이 주신 최고의 선물 믿음 - 믿음에 대하여 성경적으로 고찰한 책',\n",
       "   '소하고 순한 믿음에 관하여',\n",
       "   '믿음을 심어 성공을 거두라 -  순전한 믿음을 고백할 때 거두게 되는 풍성한 열매에 대해 담은책 .(양장본)',\n",
       "   '믿음의 핵심',\n",
       "   '사막의 우물',\n",
       "   '박해 (큰믿음)',\n",
       "   '사막의 우물 (양장)',\n",
       "   '믿음에 대하여',\n",
       "   '뉴스를 말하다']},\n",
       " {'베스트셀러': '파친코 1', '중고 책 목록': ['파친코 1', '[세트] 파친코 1~2 세트 - 전2권']},\n",
       " {'베스트셀러': '원펀맨 One Punch Man 25', '중고 책 목록': []}]"
      ]
     },
     "execution_count": 25,
     "metadata": {},
     "output_type": "execute_result"
    }
   ],
   "source": [
    "used_best[:5]"
   ]
  },
  {
   "cell_type": "code",
   "execution_count": 26,
   "id": "ebbb34fc",
   "metadata": {},
   "outputs": [
    {
     "data": {
      "text/html": [
       "<div>\n",
       "<style scoped>\n",
       "    .dataframe tbody tr th:only-of-type {\n",
       "        vertical-align: middle;\n",
       "    }\n",
       "\n",
       "    .dataframe tbody tr th {\n",
       "        vertical-align: top;\n",
       "    }\n",
       "\n",
       "    .dataframe thead th {\n",
       "        text-align: right;\n",
       "    }\n",
       "</style>\n",
       "<table border=\"1\" class=\"dataframe\">\n",
       "  <thead>\n",
       "    <tr style=\"text-align: right;\">\n",
       "      <th></th>\n",
       "      <th>베스트셀러</th>\n",
       "      <th>중고 책 목록</th>\n",
       "    </tr>\n",
       "  </thead>\n",
       "  <tbody>\n",
       "    <tr>\n",
       "      <th>0</th>\n",
       "      <td>헤어질 결심 각본</td>\n",
       "      <td>[]</td>\n",
       "    </tr>\n",
       "    <tr>\n",
       "      <th>1</th>\n",
       "      <td>알싸한 기린의 세계</td>\n",
       "      <td>[알싸한 기린의 세계]</td>\n",
       "    </tr>\n",
       "    <tr>\n",
       "      <th>2</th>\n",
       "      <td>믿음에 대하여</td>\n",
       "      <td>[능력주의와 불평등, 말씀, 그리고 사색과 결단 2, 불교에 대해 꼭 알아야 할 1...</td>\n",
       "    </tr>\n",
       "    <tr>\n",
       "      <th>3</th>\n",
       "      <td>파친코 1</td>\n",
       "      <td>[파친코 1, [세트] 파친코 1~2 세트 - 전2권]</td>\n",
       "    </tr>\n",
       "    <tr>\n",
       "      <th>4</th>\n",
       "      <td>원펀맨 One Punch Man 25</td>\n",
       "      <td>[]</td>\n",
       "    </tr>\n",
       "  </tbody>\n",
       "</table>\n",
       "</div>"
      ],
      "text/plain": [
       "                  베스트셀러                                            중고 책 목록\n",
       "0             헤어질 결심 각본                                                 []\n",
       "1            알싸한 기린의 세계                                       [알싸한 기린의 세계]\n",
       "2               믿음에 대하여  [능력주의와 불평등, 말씀, 그리고 사색과 결단 2, 불교에 대해 꼭 알아야 할 1...\n",
       "3                 파친코 1                     [파친코 1, [세트] 파친코 1~2 세트 - 전2권]\n",
       "4  원펀맨 One Punch Man 25                                                 []"
      ]
     },
     "execution_count": 26,
     "metadata": {},
     "output_type": "execute_result"
    }
   ],
   "source": [
    "import pandas as pd\n",
    "\n",
    "df = pd.DataFrame(used_best)\n",
    "df.head()"
   ]
  },
  {
   "cell_type": "code",
   "execution_count": 27,
   "id": "e54e4c94",
   "metadata": {},
   "outputs": [],
   "source": [
    "df.to_csv('aladin.csv', index=False, encoding='utf-8-sig')"
   ]
  },
  {
   "cell_type": "code",
   "execution_count": 29,
   "id": "28fe1847",
   "metadata": {},
   "outputs": [
    {
     "data": {
      "text/html": [
       "<div>\n",
       "<style scoped>\n",
       "    .dataframe tbody tr th:only-of-type {\n",
       "        vertical-align: middle;\n",
       "    }\n",
       "\n",
       "    .dataframe tbody tr th {\n",
       "        vertical-align: top;\n",
       "    }\n",
       "\n",
       "    .dataframe thead th {\n",
       "        text-align: right;\n",
       "    }\n",
       "</style>\n",
       "<table border=\"1\" class=\"dataframe\">\n",
       "  <thead>\n",
       "    <tr style=\"text-align: right;\">\n",
       "      <th></th>\n",
       "      <th>베스트셀러</th>\n",
       "      <th>중고 책 목록</th>\n",
       "    </tr>\n",
       "  </thead>\n",
       "  <tbody>\n",
       "    <tr>\n",
       "      <th>0</th>\n",
       "      <td>헤어질 결심 각본</td>\n",
       "      <td>[]</td>\n",
       "    </tr>\n",
       "    <tr>\n",
       "      <th>1</th>\n",
       "      <td>알싸한 기린의 세계</td>\n",
       "      <td>['알싸한 기린의 세계']</td>\n",
       "    </tr>\n",
       "    <tr>\n",
       "      <th>2</th>\n",
       "      <td>믿음에 대하여</td>\n",
       "      <td>['능력주의와 불평등', '말씀, 그리고 사색과 결단 2', '불교에 대해 꼭 알아...</td>\n",
       "    </tr>\n",
       "    <tr>\n",
       "      <th>3</th>\n",
       "      <td>파친코 1</td>\n",
       "      <td>['파친코 1', '[세트] 파친코 1~2 세트 - 전2권']</td>\n",
       "    </tr>\n",
       "    <tr>\n",
       "      <th>4</th>\n",
       "      <td>원펀맨 One Punch Man 25</td>\n",
       "      <td>[]</td>\n",
       "    </tr>\n",
       "  </tbody>\n",
       "</table>\n",
       "</div>"
      ],
      "text/plain": [
       "                  베스트셀러                                            중고 책 목록\n",
       "0             헤어질 결심 각본                                                 []\n",
       "1            알싸한 기린의 세계                                     ['알싸한 기린의 세계']\n",
       "2               믿음에 대하여  ['능력주의와 불평등', '말씀, 그리고 사색과 결단 2', '불교에 대해 꼭 알아...\n",
       "3                 파친코 1                 ['파친코 1', '[세트] 파친코 1~2 세트 - 전2권']\n",
       "4  원펀맨 One Punch Man 25                                                 []"
      ]
     },
     "execution_count": 29,
     "metadata": {},
     "output_type": "execute_result"
    }
   ],
   "source": [
    "aladin = pd.read_csv('aladin.csv')\n",
    "aladin.head()"
   ]
  }
 ],
 "metadata": {
  "kernelspec": {
   "display_name": "Python 3 (ipykernel)",
   "language": "python",
   "name": "python3"
  },
  "language_info": {
   "codemirror_mode": {
    "name": "ipython",
    "version": 3
   },
   "file_extension": ".py",
   "mimetype": "text/x-python",
   "name": "python",
   "nbconvert_exporter": "python",
   "pygments_lexer": "ipython3",
   "version": "3.9.12"
  }
 },
 "nbformat": 4,
 "nbformat_minor": 5
}
