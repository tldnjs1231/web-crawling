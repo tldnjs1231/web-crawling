{
 "cells": [
  {
   "cell_type": "markdown",
   "id": "874ffc1f",
   "metadata": {},
   "source": [
    "## requests 모듈\n",
    "- 정적인 웹 문서를 읽어오는 용도로 사용되는 3rd Party 모듈\n",
    "- 표준 라이브러리 urllib 모듈이 있지만, requests가 더 쉽고 대중적\n",
    "- https://requests.readthedocs.io/en/latest/ (공식 문서)\n",
    "- 설치: pip install requests (Anaconda Prompt)"
   ]
  },
  {
   "cell_type": "code",
   "execution_count": 1,
   "id": "ab79fc04",
   "metadata": {},
   "outputs": [
    {
     "data": {
      "text/plain": [
       "<Response [200]>"
      ]
     },
     "execution_count": 1,
     "metadata": {},
     "output_type": "execute_result"
    }
   ],
   "source": [
    "# 요청하는 도구인 requests 모듈 import\n",
    "import requests\n",
    "\n",
    "# 요청할 웹 페이지 주소(URL)를 변수에 저장(통신 프로토콜 http 포함)\n",
    "url = 'https://www.naver.com/'\n",
    "\n",
    "# requests.get(url) -> url 주소의 페이지를 서버에 요청하고 결과 응답을 받음\n",
    "data = requests.get(url)\n",
    "data\n",
    "\n",
    "# Response [200]: 응답 코드가 200이라는 것은 request에 정상 응답한 것을 의미\n",
    "# 404: not found\n",
    "# 요청은 클라이언트, 응답은 서버"
   ]
  },
  {
   "cell_type": "code",
   "execution_count": 2,
   "id": "e2ac4b0b",
   "metadata": {},
   "outputs": [
    {
     "data": {
      "text/plain": [
       "requests.models.Response"
      ]
     },
     "execution_count": 2,
     "metadata": {},
     "output_type": "execute_result"
    }
   ],
   "source": [
    "type(data)"
   ]
  },
  {
   "cell_type": "code",
   "execution_count": 3,
   "id": "f04db89b",
   "metadata": {},
   "outputs": [
    {
     "data": {
      "text/plain": [
       "'\\n<!doctype html>                          <html lang=\"ko\" data-dark=\"false\"> <head> <meta charset=\"u'"
      ]
     },
     "execution_count": 3,
     "metadata": {},
     "output_type": "execute_result"
    }
   ],
   "source": [
    "# 서버가 응답한 페이지의 html 소스 문자열 확인\n",
    "# data.text\n",
    "data.text[:100]"
   ]
  },
  {
   "cell_type": "code",
   "execution_count": 4,
   "id": "e3d6510f",
   "metadata": {},
   "outputs": [
    {
     "data": {
      "text/plain": [
       "'UTF-8'"
      ]
     },
     "execution_count": 4,
     "metadata": {},
     "output_type": "execute_result"
    }
   ],
   "source": [
    "# 문서의 encoding 정보 확인\n",
    "data.encoding\n",
    "\n",
    "# 파일을 작성하는 방식과 저장하는 방식이 다르면 파일이 깨지거나 오류 발생"
   ]
  },
  {
   "cell_type": "code",
   "execution_count": 5,
   "id": "0c8e6a4f",
   "metadata": {},
   "outputs": [
    {
     "data": {
      "text/plain": [
       "189188"
      ]
     },
     "execution_count": 5,
     "metadata": {},
     "output_type": "execute_result"
    }
   ],
   "source": [
    "# 파일로 저장\n",
    "html = data.text\n",
    "open('naver.html', 'w', encoding='UTF-8').write(html)\n",
    "\n",
    "# UnicodeEncodeError 방지하기 위해 data의 encoding 방식에 맞춰 UTF-8로 설정"
   ]
  },
  {
   "cell_type": "code",
   "execution_count": 6,
   "id": "ef3e4ab1",
   "metadata": {},
   "outputs": [
    {
     "ename": "UnicodeEncodeError",
     "evalue": "'cp949' codec can't encode character '\\xa0' in position 77278: illegal multibyte sequence",
     "output_type": "error",
     "traceback": [
      "\u001b[1;31m---------------------------------------------------------------------------\u001b[0m",
      "\u001b[1;31mUnicodeEncodeError\u001b[0m                        Traceback (most recent call last)",
      "Input \u001b[1;32mIn [6]\u001b[0m, in \u001b[0;36m<cell line: 3>\u001b[1;34m()\u001b[0m\n\u001b[0;32m      1\u001b[0m \u001b[38;5;66;03m# encoding 방식을 지정하지 않을 경우\u001b[39;00m\n\u001b[0;32m      2\u001b[0m html \u001b[38;5;241m=\u001b[39m data\u001b[38;5;241m.\u001b[39mtext\n\u001b[1;32m----> 3\u001b[0m \u001b[38;5;28;43mopen\u001b[39;49m\u001b[43m(\u001b[49m\u001b[38;5;124;43m'\u001b[39;49m\u001b[38;5;124;43mnaver.html\u001b[39;49m\u001b[38;5;124;43m'\u001b[39;49m\u001b[43m,\u001b[49m\u001b[43m \u001b[49m\u001b[38;5;124;43m'\u001b[39;49m\u001b[38;5;124;43mw\u001b[39;49m\u001b[38;5;124;43m'\u001b[39;49m\u001b[43m)\u001b[49m\u001b[38;5;241;43m.\u001b[39;49m\u001b[43mwrite\u001b[49m\u001b[43m(\u001b[49m\u001b[43mhtml\u001b[49m\u001b[43m)\u001b[49m\n",
      "\u001b[1;31mUnicodeEncodeError\u001b[0m: 'cp949' codec can't encode character '\\xa0' in position 77278: illegal multibyte sequence"
     ]
    }
   ],
   "source": [
    "# encoding 방식을 지정하지 않을 경우\n",
    "html = data.text\n",
    "open('naver.html', 'w').write(html)"
   ]
  },
  {
   "cell_type": "markdown",
   "id": "9cc4d5a3",
   "metadata": {},
   "source": [
    "## dictionary의 중첩\n",
    "- 실습 링크: https://sunrise-sunset.org/api"
   ]
  },
  {
   "cell_type": "code",
   "execution_count": 7,
   "id": "95154ffb",
   "metadata": {},
   "outputs": [
    {
     "data": {
      "text/plain": [
       "{'results': {'sunrise': '4:56:55 AM',\n",
       "  'sunset': '7:39:53 PM',\n",
       "  'solar_noon': '12:18:24 PM',\n",
       "  'day_length': '14:42:58',\n",
       "  'civil_twilight_begin': '4:27:47 AM',\n",
       "  'civil_twilight_end': '8:09:01 PM',\n",
       "  'nautical_twilight_begin': '3:49:36 AM',\n",
       "  'nautical_twilight_end': '8:47:12 PM',\n",
       "  'astronomical_twilight_begin': '3:06:47 AM',\n",
       "  'astronomical_twilight_end': '9:30:01 PM'},\n",
       " 'status': 'OK'}"
      ]
     },
     "execution_count": 7,
     "metadata": {},
     "output_type": "execute_result"
    }
   ],
   "source": [
    "# 실습 링크 Sample requests 첫 번째 링크 속 데이터\n",
    "# 링크 접속 후 복사/붙여넣기 -> 가독성 향상을 위하여 줄바꿈 삽입\n",
    "\n",
    "data = {\"results\":{\"sunrise\":\"4:56:55 AM\",\n",
    "                   \"sunset\":\"7:39:53 PM\",\n",
    "                   \"solar_noon\":\"12:18:24 PM\",\n",
    "                   \"day_length\":\"14:42:58\",\n",
    "                   \"civil_twilight_begin\":\"4:27:47 AM\",\n",
    "                   \"civil_twilight_end\":\"8:09:01 PM\",\n",
    "                   \"nautical_twilight_begin\":\"3:49:36 AM\",\n",
    "                   \"nautical_twilight_end\":\"8:47:12 PM\",\n",
    "                   \"astronomical_twilight_begin\":\"3:06:47 AM\",\n",
    "                   \"astronomical_twilight_end\":\"9:30:01 PM\"},\n",
    "        \"status\":\"OK\"}\n",
    "\n",
    "data\n",
    "# dictionary 안의 dictionary 형태: 'results' key의 value가 dictionary 형태"
   ]
  },
  {
   "cell_type": "code",
   "execution_count": 8,
   "id": "91f81b23",
   "metadata": {},
   "outputs": [
    {
     "data": {
      "text/plain": [
       "dict_keys(['results', 'status'])"
      ]
     },
     "execution_count": 8,
     "metadata": {},
     "output_type": "execute_result"
    }
   ],
   "source": [
    "# dictionary의 key 목록 확인\n",
    "data.keys()"
   ]
  },
  {
   "cell_type": "code",
   "execution_count": 9,
   "id": "bc6bab27",
   "metadata": {},
   "outputs": [
    {
     "data": {
      "text/plain": [
       "dict_keys(['sunrise', 'sunset', 'solar_noon', 'day_length', 'civil_twilight_begin', 'civil_twilight_end', 'nautical_twilight_begin', 'nautical_twilight_end', 'astronomical_twilight_begin', 'astronomical_twilight_end'])"
      ]
     },
     "execution_count": 9,
     "metadata": {},
     "output_type": "execute_result"
    }
   ],
   "source": [
    "data['results'].keys()"
   ]
  },
  {
   "cell_type": "code",
   "execution_count": 10,
   "id": "d71f699a",
   "metadata": {},
   "outputs": [
    {
     "data": {
      "text/plain": [
       "'14:42:58'"
      ]
     },
     "execution_count": 10,
     "metadata": {},
     "output_type": "execute_result"
    }
   ],
   "source": [
    "data['results']['day_length']"
   ]
  },
  {
   "cell_type": "code",
   "execution_count": 11,
   "id": "b6022ecd",
   "metadata": {},
   "outputs": [
    {
     "data": {
      "text/plain": [
       "{'results': {'sunrise': '4:57:01 AM',\n",
       "  'sunset': '7:40:13 PM',\n",
       "  'solar_noon': '12:18:37 PM',\n",
       "  'day_length': '14:43:12',\n",
       "  'civil_twilight_begin': '4:27:52 AM',\n",
       "  'civil_twilight_end': '8:09:22 PM',\n",
       "  'nautical_twilight_begin': '3:49:39 AM',\n",
       "  'nautical_twilight_end': '8:47:35 PM',\n",
       "  'astronomical_twilight_begin': '3:06:49 AM',\n",
       "  'astronomical_twilight_end': '9:30:25 PM'},\n",
       " 'status': 'OK'}"
      ]
     },
     "execution_count": 11,
     "metadata": {},
     "output_type": "execute_result"
    }
   ],
   "source": [
    "# Sample requests 첫 번째 링크를 변수에 저장\n",
    "url = 'https://api.sunrise-sunset.org/json?lat=36.7201600&lng=-4.4203400'\n",
    "\n",
    "# json() -> JSON 데이터를 파이썬에서 다루기 쉽게 dict & list 형태로 변환시키는 메소드\n",
    "# JSON(JavaScript Object Notation): 파이썬의 dict & list 형태로 정보를 교환하는 방식\n",
    "data = requests.get(url).json()\n",
    "data"
   ]
  },
  {
   "cell_type": "markdown",
   "id": "3ec3444a",
   "metadata": {},
   "source": [
    "## 문자열 formatting\n",
    "- format + ing: 일종의 형식/양식, 문자열에 변수의 값을 받는 기본적인 틀을 제공\n",
    "- f formatting: 문자열 앞에 소문자 f를 삽입 (f'string')\n",
    "- 문자열 안의 {}에 변수 이름을 넣으면 변수의 값 반환"
   ]
  },
  {
   "cell_type": "code",
   "execution_count": 12,
   "id": "43f09d7b",
   "metadata": {},
   "outputs": [
    {
     "data": {
      "text/plain": [
       "'하나 10둘 11.5셋 abcd넷 다섯'"
      ]
     },
     "execution_count": 12,
     "metadata": {},
     "output_type": "execute_result"
    }
   ],
   "source": [
    "a, b, c = 10, 11.5, 'abcd'\n",
    "sample = f'하나 {a}둘 {b}셋 {c}넷 다섯'\n",
    "sample"
   ]
  },
  {
   "cell_type": "code",
   "execution_count": 13,
   "id": "28e56165",
   "metadata": {},
   "outputs": [],
   "source": [
    "# URL 해석\n",
    "# Sample requests 세 번째 링크:\n",
    "# https://api.sunrise-sunset.org/json?lat=36.7201600&lng=-4.4203400&date=2022-06-15\n",
    "# api.sunrise-sunset.org 도메인 안에 json이라는 파일 존재\n",
    "# json 파일 속 lat(위도), lng(경도), date(날짜)가 각각 위와 같은 데이터"
   ]
  },
  {
   "cell_type": "code",
   "execution_count": 14,
   "id": "e4ec075c",
   "metadata": {},
   "outputs": [
    {
     "data": {
      "text/plain": [
       "{'results': {'sunrise': '7:28:40 AM',\n",
       "  'sunset': '5:13:35 PM',\n",
       "  'solar_noon': '12:21:08 PM',\n",
       "  'day_length': '09:44:55',\n",
       "  'civil_twilight_begin': '7:01:25 AM',\n",
       "  'civil_twilight_end': '5:40:50 PM',\n",
       "  'nautical_twilight_begin': '6:29:06 AM',\n",
       "  'nautical_twilight_end': '6:13:09 PM',\n",
       "  'astronomical_twilight_begin': '5:57:39 AM',\n",
       "  'astronomical_twilight_end': '6:44:36 PM'},\n",
       " 'status': 'OK'}"
      ]
     },
     "execution_count": 14,
     "metadata": {},
     "output_type": "execute_result"
    }
   ],
   "source": [
    "date = '2023-01-01'\n",
    "url = f'https://api.sunrise-sunset.org/json?lat=36.7201600&lng=-4.4203400&date={date}'\n",
    "\n",
    "data = requests.get(url).json()\n",
    "data"
   ]
  },
  {
   "cell_type": "code",
   "execution_count": 15,
   "id": "b35aa7d6",
   "metadata": {},
   "outputs": [],
   "source": [
    "def by_date(date):\n",
    "    url = f'https://api.sunrise-sunset.org/json?lat=36.7201600&lng=-4.4203400&date={date}'\n",
    "    return requests.get(url).json()\n",
    "\n",
    "# lat, lng 파라미터를 f string 처리하여 바꿔줄 경우,\n",
    "# 구글 지도에 위치 검색 후 위도, 경도 정보 활용 가능"
   ]
  },
  {
   "cell_type": "code",
   "execution_count": 16,
   "id": "cb776031",
   "metadata": {},
   "outputs": [
    {
     "data": {
      "text/plain": [
       "{'results': {'sunrise': '5:28:19 AM',\n",
       "  'sunset': '7:18:13 PM',\n",
       "  'solar_noon': '12:23:16 PM',\n",
       "  'day_length': '13:49:54',\n",
       "  'civil_twilight_begin': '5:01:44 AM',\n",
       "  'civil_twilight_end': '7:44:48 PM',\n",
       "  'nautical_twilight_begin': '4:27:54 AM',\n",
       "  'nautical_twilight_end': '8:18:38 PM',\n",
       "  'astronomical_twilight_begin': '3:51:53 AM',\n",
       "  'astronomical_twilight_end': '8:54:39 PM'},\n",
       " 'status': 'OK'}"
      ]
     },
     "execution_count": 16,
     "metadata": {},
     "output_type": "execute_result"
    }
   ],
   "source": [
    "by_date('2020-08-08')"
   ]
  }
 ],
 "metadata": {
  "kernelspec": {
   "display_name": "Python 3 (ipykernel)",
   "language": "python",
   "name": "python3"
  },
  "language_info": {
   "codemirror_mode": {
    "name": "ipython",
    "version": 3
   },
   "file_extension": ".py",
   "mimetype": "text/x-python",
   "name": "python",
   "nbconvert_exporter": "python",
   "pygments_lexer": "ipython3",
   "version": "3.9.12"
  }
 },
 "nbformat": 4,
 "nbformat_minor": 5
}
